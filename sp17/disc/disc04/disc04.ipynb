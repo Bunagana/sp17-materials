{
 "cells": [
  {
   "cell_type": "markdown",
   "metadata": {},
   "source": [
    "# Discussion 4: Visualizations\n",
    "\n",
    "Relevant lectures: 5 and 6\n",
    "\n",
    "In today's discussion, you'll get practice identifying poor visualizations\n",
    "and suggesting improvements to them.\n",
    "\n",
    "**This discussion will not be turned in.** In fact, there is no code in this discussion; all your\n",
    "answers will be written in the text cells below.\n",
    "\n",
    "The purpose of this exercise is to think about and communicate your point of view, so\n",
    "please work through these problems together in **groups of 2 or 3**."
   ]
  },
  {
   "cell_type": "markdown",
   "metadata": {},
   "source": [
    "## Question 1: Intel Chips\n",
    "\n",
    "The chips that are present in your computer contain electrical components called\n",
    "transistors. Intel is one of the leading manufacturers of these chips; they\n",
    "released the first chip for home computers in 1979.\n",
    "\n",
    "We'd like to visualize the improvements in chips that Intel has made since 1979.\n",
    "\n",
    "You can see a portion of the data at http://computer.howstuffworks.com/microprocessor1.htm.\n",
    "\n",
    "Inspect the following plot.\n",
    "\n",
    "![](intel1.png)\n",
    "\n",
    "### Question 1a\n",
    "\n",
    "What is the plot trying to communicate?"
   ]
  },
  {
   "cell_type": "markdown",
   "metadata": {},
   "source": [
    "**Write your solution here, replacing this text.**"
   ]
  },
  {
   "cell_type": "markdown",
   "metadata": {},
   "source": [
    "### Question 1b\n",
    "\n",
    "What are the problems with this plot? (There are quite a few.)"
   ]
  },
  {
   "cell_type": "markdown",
   "metadata": {},
   "source": []
  },
  {
   "cell_type": "markdown",
   "metadata": {},
   "source": [
    "Here's an attempt to improve the plot:\n",
    "\n",
    "![](intel2.png)"
   ]
  },
  {
   "cell_type": "markdown",
   "metadata": {},
   "source": [
    "### Question 1c\n",
    "\n",
    "What is clear from this plot that isn't clear in the previous one?"
   ]
  },
  {
   "cell_type": "code",
   "execution_count": null,
   "metadata": {
    "collapsed": true
   },
   "outputs": [],
   "source": []
  },
  {
   "cell_type": "markdown",
   "metadata": {},
   "source": [
    "Here's a third attempt to improve the plot:\n",
    "\n",
    "![](intel3.png)"
   ]
  },
  {
   "cell_type": "markdown",
   "metadata": {},
   "source": [
    "### Question 1d\n",
    "\n",
    "What is better about this plot compared to the previous one?"
   ]
  },
  {
   "cell_type": "markdown",
   "metadata": {},
   "source": [
    "## Question 2\n",
    "\n",
    "In the British county of Leicestershire, local authorities were presented\n",
    "this plot of crime data.\n",
    "\n",
    "![](britain_crime.png)"
   ]
  },
  {
   "cell_type": "markdown",
   "metadata": {},
   "source": [
    "### Question 2a\n",
    "\n",
    "What is the purpose of this visualization? What is it trying to communicate?"
   ]
  },
  {
   "cell_type": "code",
   "execution_count": null,
   "metadata": {
    "collapsed": true
   },
   "outputs": [],
   "source": []
  },
  {
   "cell_type": "markdown",
   "metadata": {},
   "source": [
    "### Question 2b\n",
    "\n",
    "What does the visualization convey well? What are problems with this visualization?"
   ]
  },
  {
   "cell_type": "code",
   "execution_count": null,
   "metadata": {
    "collapsed": true
   },
   "outputs": [],
   "source": []
  },
  {
   "cell_type": "markdown",
   "metadata": {},
   "source": [
    "### Question 2c\n",
    "\n",
    "Suggest an alternative visualization that would better communicate what\n",
    "the original visualization was going for. Justify your choice."
   ]
  },
  {
   "cell_type": "code",
   "execution_count": null,
   "metadata": {
    "collapsed": true
   },
   "outputs": [],
   "source": []
  },
  {
   "cell_type": "markdown",
   "metadata": {},
   "source": [
    "## Question 3\n",
    "\n",
    "This plot shows information about common cooking oils.\n",
    "\n",
    "Note: The smoking point for a given oil is the temperature where\n",
    "the oil starts to decompose and generate\n",
    "smoke. It determines what kind of cooking is possible.\n",
    "\n",
    "![](oils.png)"
   ]
  },
  {
   "cell_type": "markdown",
   "metadata": {},
   "source": [
    "### Question 3a\n",
    "\n",
    "What is the purpose of this visualization? What is it trying to communicate?"
   ]
  },
  {
   "cell_type": "code",
   "execution_count": null,
   "metadata": {
    "collapsed": true
   },
   "outputs": [],
   "source": []
  },
  {
   "cell_type": "markdown",
   "metadata": {},
   "source": [
    "### Question 3b\n",
    "\n",
    "What does the visualization convey well? What are problems with this visualization?"
   ]
  },
  {
   "cell_type": "code",
   "execution_count": null,
   "metadata": {
    "collapsed": true
   },
   "outputs": [],
   "source": []
  },
  {
   "cell_type": "markdown",
   "metadata": {},
   "source": [
    "### Question 3c\n",
    "\n",
    "Suggest an alternative visualization that would better communicate what\n",
    "the original visualization was going for. Justify your choice."
   ]
  },
  {
   "cell_type": "code",
   "execution_count": null,
   "metadata": {
    "collapsed": true
   },
   "outputs": [],
   "source": []
  }
 ],
 "metadata": {
  "anaconda-cloud": {},
  "kernelspec": {
   "display_name": "Python [conda env:ds100]",
   "language": "python",
   "name": "conda-env-ds100-py"
  },
  "language_info": {
   "codemirror_mode": {
    "name": "ipython",
    "version": 3
   },
   "file_extension": ".py",
   "mimetype": "text/x-python",
   "name": "python",
   "nbconvert_exporter": "python",
   "pygments_lexer": "ipython3",
   "version": "3.5.2"
  }
 },
 "nbformat": 4,
 "nbformat_minor": 0
}

