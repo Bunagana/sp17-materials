{
 "cells": [
  {
   "cell_type": "markdown",
   "metadata": {},
   "source": [
    "# Discussion 5: Prediction and Inference\n",
    "\n",
    "Relevant lectures: 8\n",
    "\n",
    "In today's discussion, you'll get practice with inference concepts and dive deeper\n",
    "into the work we did in lecture 8.\n",
    "\n",
    "**This discussion will not be turned in.** In fact, there is no code in this discussion; all your\n",
    "answers will be written in the text cells below.\n",
    "\n",
    "The purpose of this exercise is to think about and communicate your point of view, so\n",
    "please work through these problems together in **groups of 2 or 3**."
   ]
  },
  {
   "cell_type": "markdown",
   "metadata": {},
   "source": [
    "## Traffic Data Problem\n",
    "\n",
    "Recall from lecture: J drives a daily commute to UC Berkeley from Beaumont Ave. in Oakland.\n",
    "\n",
    "He wants to know what lane is best to take.\n",
    "\n",
    "Specifically, he wants to know: is Lane 4 (the rightmost lane) better than\n",
    "Lane 1 (the leftmost lane)?\n",
    "\n",
    "### Dataset\n",
    "\n",
    "Our dataset contains all the work day flows over 60 minute intervals (7-8am)\n",
    "near Beaumont Ave.\n",
    "\n",
    "Here's a plot of the flows from 7-8am over the time period in our data:\n",
    "\n",
    "![](flow_plots.png)\n",
    "\n",
    "And here are the distributions of the flows:\n",
    "\n",
    "![](flow_dist.png)\n",
    "\n",
    "-----"
   ]
  },
  {
   "cell_type": "markdown",
   "metadata": {},
   "source": [
    "## Question 1: Recap\n",
    "\n",
    "First, let's walk through the steps we took during lecture to\n",
    "create our confidence interval.\n",
    "\n",
    "### Question 1a:\n",
    "\n",
    "How did we change J's question into a more precise statistical question?"
   ]
  },
  {
   "cell_type": "markdown",
   "metadata": {
    "for_assignment_type": "student"
   },
   "source": [
    "*Write your answer here, replacing this text.*"
   ]
  },
  {
   "cell_type": "markdown",
   "metadata": {},
   "source": [
    "### Question 1b:\n",
    "\n",
    "What were our null and alternative hypotheses for this question?"
   ]
  },
  {
   "cell_type": "markdown",
   "metadata": {
    "for_assignment_type": "student"
   },
   "source": [
    "*Write your answer here, replacing this text.*"
   ]
  },
  {
   "cell_type": "markdown",
   "metadata": {},
   "source": [
    "### Question 1c:\n",
    "\n",
    "Let's suppose that we took our data and found the mean flow for Lane 1 was 1000\n",
    "and the mean flow for Lane 4 was 980.\n",
    "\n",
    "This results in a (Lane 1 - Lane 4) flow of 20.\n",
    "\n",
    "At this point, why can't we conclude that Lane 1 has a different mean flow than Lane 4?"
   ]
  },
  {
   "cell_type": "markdown",
   "metadata": {
    "for_assignment_type": "student"
   },
   "source": [
    "*Write your answer here, replacing this text.*"
   ]
  },
  {
   "cell_type": "markdown",
   "metadata": {},
   "source": [
    "### Question 1d:\n",
    "\n",
    "In order to tell whether our difference is significant, we bootstrapped the\n",
    "mean difference between Lane 1 and 4.\n",
    "\n",
    "This is the distribution we got:\n",
    "\n",
    "![](bootstrapped_diffs.png)\n",
    "\n",
    "According to this distribution, estimate the probability that we get\n",
    "a flow difference of 0 if the lane flows fluctuated by chance.\n",
    "\n",
    "Why can we look at this distribution and find a probability?\n",
    "\n",
    "Is our probability a p-value?\n",
    "\n",
    "Finally, why did we look at the probability of getting 0 or more extreme\n",
    "rather than getting 20 (our previously computed mean difference) or more extreme?"
   ]
  },
  {
   "cell_type": "markdown",
   "metadata": {
    "for_assignment_type": "student"
   },
   "source": [
    "*Write your answer here, replacing this text.*"
   ]
  },
  {
   "cell_type": "markdown",
   "metadata": {},
   "source": [
    "### Question 1e:\n",
    "\n",
    "Use the distribution above to roughly estimate the bounds of a 95% confidence interval\n",
    "for this problem. (Remember to construct the correct type of interval for this problem,\n",
    "not just what was on the lecture slides.)"
   ]
  },
  {
   "cell_type": "markdown",
   "metadata": {
    "for_assignment_type": "student"
   },
   "source": [
    "*Write your answer here, replacing this text.*"
   ]
  },
  {
   "cell_type": "markdown",
   "metadata": {},
   "source": [
    "### Question 1f:\n",
    "\n",
    "Does our confidence interval suggest that J should prefer one lane over the other?\n",
    "\n",
    "Why did we say that the confidence interval probably wasn't the right\n",
    "tool for the job?"
   ]
  },
  {
   "cell_type": "markdown",
   "metadata": {
    "for_assignment_type": "student"
   },
   "source": [
    "*Write your answer here, replacing this text.*"
   ]
  },
  {
   "cell_type": "markdown",
   "metadata": {},
   "source": [
    "## Question 2\n",
    "\n",
    "One good way to check whether you understand something is to tweak the problem and see if you\n",
    "can still figure it out. Let's do that!\n",
    "\n",
    "### Question 2a:\n",
    "\n",
    "Let's suppose we didn't bootstrap the differences. Instead, we bootstrap the\n",
    "mean flow for Lane 1 and Lane 4 separately. Can we still answer our original question?\n",
    "If so, how? If not, explain why not."
   ]
  },
  {
   "cell_type": "markdown",
   "metadata": {
    "for_assignment_type": "student"
   },
   "source": [
    "*Write your answer here, replacing this text.*"
   ]
  },
  {
   "cell_type": "markdown",
   "metadata": {},
   "source": [
    "### Question 2b:\n",
    "\n",
    "Rephrase the question, null, and alternative hypotheses so that you would construct\n",
    "a one-sided confidence interval instead of the two-sided one above.\n",
    "\n",
    "Then, use the plot above to estimate your one-sided confidence interval.\n",
    "How do the bounds of this interval compare with your previous bounds?"
   ]
  },
  {
   "cell_type": "markdown",
   "metadata": {
    "for_assignment_type": "student"
   },
   "source": [
    "*Write your answer here, replacing this text.*"
   ]
  },
  {
   "cell_type": "markdown",
   "metadata": {},
   "source": [
    "### Question 2c:\n",
    "\n",
    "Let's suppose we constructed the interval, then looked at our EDA and decided to cut out\n",
    "the data from Oct to Nov 2016 out, then recreate the confidence interval.\n",
    "\n",
    "What new assumption did we implicitly make in this process?"
   ]
  },
  {
   "cell_type": "markdown",
   "metadata": {
    "for_assignment_type": "student"
   },
   "source": [
    "*Write your answer here, replacing this text.*"
   ]
  },
  {
   "cell_type": "markdown",
   "metadata": {},
   "source": [
    "### Question 2d:\n",
    "\n",
    "Let's suppose we didn't have the bootstrap. How else could we estimate the\n",
    "sample distribution of mean differences?\n",
    "\n",
    "There is an answer that is easy to state. There is also an answer that you might have learned\n",
    "if you've taken other Stats classes."
   ]
  },
  {
   "cell_type": "markdown",
   "metadata": {
    "for_assignment_type": "student"
   },
   "source": [
    "*Write your answer here, replacing this text.*"
   ]
  },
  {
   "cell_type": "code",
   "execution_count": null,
   "metadata": {
    "collapsed": true
   },
   "outputs": [],
   "source": []
  }
 ],
 "metadata": {
  "anaconda-cloud": {},
  "kernelspec": {
   "display_name": "Python [conda env:ds100]",
   "language": "python",
   "name": "conda-env-ds100-py"
  },
  "language_info": {
   "codemirror_mode": {
    "name": "ipython",
    "version": 3
   },
   "file_extension": ".py",
   "mimetype": "text/x-python",
   "name": "python",
   "nbconvert_exporter": "python",
   "pygments_lexer": "ipython3",
   "version": "3.5.2"
  }
 },
 "nbformat": 4,
 "nbformat_minor": 1
}

